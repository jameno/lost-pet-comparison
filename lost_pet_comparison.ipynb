{
 "cells": [
  {
   "cell_type": "code",
   "execution_count": null,
   "metadata": {},
   "outputs": [],
   "source": [
    "from openai import OpenAI\n",
    "import json\n",
    "import base64\n",
    "\n",
    "client = OpenAI()"
   ]
  },
  {
   "cell_type": "code",
   "execution_count": null,
   "metadata": {},
   "outputs": [],
   "source": [
    "def compare_pets(image_1, image_2):\n",
    "  with open(image_1, \"rb\") as image_file:\n",
    "      image_1_base64 = base64.b64encode(image_file.read()).decode(\"utf-8\")\n",
    "\n",
    "  with open(image_2, \"rb\") as image_file:\n",
    "      image_2_base64 = base64.b64encode(image_file.read()).decode(\"utf-8\")\n",
    "\n",
    "\n",
    "  response = client.chat.completions.create(\n",
    "    model=\"gpt-4o\",\n",
    "    messages=[\n",
    "      {\n",
    "        \"role\": \"user\",\n",
    "        \"content\": [\n",
    "          {\n",
    "            \"type\": \"image_url\",\n",
    "            \"image_url\": {\n",
    "              \"url\": \"data:image/png;base64,{image_1_base64}\".format(image_1_base64=image_1_base64)\n",
    "            }\n",
    "          },\n",
    "          {\n",
    "            \"type\": \"image_url\",\n",
    "            \"image_url\": {\n",
    "              \"url\": \"data:image/png;base64,{image_2_base64}\".format(image_2_base64=image_2_base64)\n",
    "            }\n",
    "          }\n",
    "        ]\n",
    "      }\n",
    "    ],\n",
    "    response_format={\n",
    "      \"type\": \"json_schema\",\n",
    "      \"json_schema\": {\n",
    "        \"name\": \"animal_comparison\",\n",
    "        \"strict\": True,\n",
    "        \"schema\": {\n",
    "          \"type\": \"object\",\n",
    "          \"properties\": {\n",
    "            \"analysis\": {\n",
    "              \"type\": \"string\",\n",
    "              \"description\": \"A detailed comparison of the two animals.\"\n",
    "            },\n",
    "            \"similarity\": {\n",
    "              \"type\": \"number\",\n",
    "              \"description\": \"A score from 0 (not similar) to 100 (exact same) indicating the similarity between the two animals.\"\n",
    "            }\n",
    "          },\n",
    "          \"required\": [\n",
    "            \"analysis\",\n",
    "            \"similarity\"\n",
    "          ],\n",
    "          \"additionalProperties\": False\n",
    "        }\n",
    "      }\n",
    "    },\n",
    "    temperature=1,\n",
    "    max_completion_tokens=10000,\n",
    "    top_p=1,\n",
    "    frequency_penalty=0,\n",
    "    presence_penalty=0\n",
    "  )\n",
    "\n",
    "  response_json = json.loads(response.choices[0].message.content)\n",
    "  \n",
    "  return response_json"
   ]
  },
  {
   "cell_type": "code",
   "execution_count": null,
   "metadata": {},
   "outputs": [],
   "source": [
    "image_1 = \"cat_1.png\"\n",
    "image_2 = \"cat_2.png\"\n",
    "\n",
    "results = compare_pets(image_1, image_2)\n",
    "\n",
    "print(\"Analysis: {analysis}\\n\".format(analysis=results[\"analysis\"]))\n",
    "print(\"Similarity score: {similarity}\".format(similarity=results[\"similarity\"]))"
   ]
  }
 ],
 "metadata": {
  "kernelspec": {
   "display_name": "Python 3",
   "language": "python",
   "name": "python3"
  },
  "language_info": {
   "codemirror_mode": {
    "name": "ipython",
    "version": 3
   },
   "file_extension": ".py",
   "mimetype": "text/x-python",
   "name": "python",
   "nbconvert_exporter": "python",
   "pygments_lexer": "ipython3",
   "version": "3.10.14"
  }
 },
 "nbformat": 4,
 "nbformat_minor": 2
}
